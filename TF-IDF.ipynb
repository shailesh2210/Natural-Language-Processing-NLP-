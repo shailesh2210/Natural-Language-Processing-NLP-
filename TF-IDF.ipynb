{
 "cells": [
  {
   "cell_type": "code",
   "execution_count": 1,
   "id": "ba63835c",
   "metadata": {},
   "outputs": [],
   "source": [
    "import nltk"
   ]
  },
  {
   "cell_type": "code",
   "execution_count": 2,
   "id": "06882df6",
   "metadata": {},
   "outputs": [],
   "source": [
    "para = \"\"\"Jawaharlal Nehru, affectionately known as Pandit Nehru, was a towering figure in Indian history and a key architect of the modern Indian nation. Born on November 14, 1889, in Allahabad, British India, he grew up under the influence of the Indian freedom struggle led by Mahatma Gandhi and became an instrumental leader in shaping India's destiny as an independent nation.\n",
    "\n",
    "A man of great intellect, Nehru was educated in some of the finest institutions in India and the United Kingdom, acquiring a deep understanding of various ideologies and world affairs. His passion for the welfare of the Indian people and his dream of a united, democratic, and secular nation fueled his lifelong commitment to the freedom movement.\n",
    "\n",
    "As a charismatic orator and a brilliant writer, Nehru's words resonated with people across the nation, motivating them to join the struggle for independence. His vision of a free India was not merely about political independence but encompassed social justice, economic equality, and the eradication of poverty.\n",
    "\n",
    "When India gained independence on August 15, 1947, Jawaharlal Nehru became its first Prime Minister, and he embarked on the monumental task of nation-building. He laid the foundation for a democratic and pluralistic society, enshrining principles of secularism, social welfare, and individual freedoms in the Indian constitution.\n",
    "\n",
    "Nehru was deeply committed to education and scientific advancement. He emphasized the importance of investing in human capital and establishing a network of educational institutions and research centers. This vision led to the establishment of the Indian Institutes of Technology (IITs) and the Indian Institutes of Management (IIMs), institutions that have played a crucial role in India's development.\"\"\""
   ]
  },
  {
   "cell_type": "code",
   "execution_count": 3,
   "id": "cc88815d",
   "metadata": {},
   "outputs": [],
   "source": [
    "sent = nltk.sent_tokenize(para)"
   ]
  },
  {
   "cell_type": "code",
   "execution_count": 5,
   "id": "f8c6cd7b",
   "metadata": {},
   "outputs": [
    {
     "data": {
      "text/plain": [
       "11"
      ]
     },
     "execution_count": 5,
     "metadata": {},
     "output_type": "execute_result"
    }
   ],
   "source": [
    "len(sent)"
   ]
  },
  {
   "cell_type": "code",
   "execution_count": 6,
   "id": "55b87d72",
   "metadata": {},
   "outputs": [
    {
     "data": {
      "text/plain": [
       "['Jawaharlal Nehru, affectionately known as Pandit Nehru, was a towering figure in Indian history and a key architect of the modern Indian nation.',\n",
       " \"Born on November 14, 1889, in Allahabad, British India, he grew up under the influence of the Indian freedom struggle led by Mahatma Gandhi and became an instrumental leader in shaping India's destiny as an independent nation.\",\n",
       " 'A man of great intellect, Nehru was educated in some of the finest institutions in India and the United Kingdom, acquiring a deep understanding of various ideologies and world affairs.',\n",
       " 'His passion for the welfare of the Indian people and his dream of a united, democratic, and secular nation fueled his lifelong commitment to the freedom movement.',\n",
       " \"As a charismatic orator and a brilliant writer, Nehru's words resonated with people across the nation, motivating them to join the struggle for independence.\",\n",
       " 'His vision of a free India was not merely about political independence but encompassed social justice, economic equality, and the eradication of poverty.',\n",
       " 'When India gained independence on August 15, 1947, Jawaharlal Nehru became its first Prime Minister, and he embarked on the monumental task of nation-building.',\n",
       " 'He laid the foundation for a democratic and pluralistic society, enshrining principles of secularism, social welfare, and individual freedoms in the Indian constitution.',\n",
       " 'Nehru was deeply committed to education and scientific advancement.',\n",
       " 'He emphasized the importance of investing in human capital and establishing a network of educational institutions and research centers.',\n",
       " \"This vision led to the establishment of the Indian Institutes of Technology (IITs) and the Indian Institutes of Management (IIMs), institutions that have played a crucial role in India's development.\"]"
      ]
     },
     "execution_count": 6,
     "metadata": {},
     "output_type": "execute_result"
    }
   ],
   "source": [
    "sent"
   ]
  },
  {
   "cell_type": "code",
   "execution_count": 7,
   "id": "4995447f",
   "metadata": {},
   "outputs": [],
   "source": [
    "import re\n",
    "from nltk.corpus import stopwords\n",
    "from nltk.stem import WordNetLemmatizer"
   ]
  },
  {
   "cell_type": "code",
   "execution_count": 8,
   "id": "b54ee509",
   "metadata": {},
   "outputs": [],
   "source": [
    "lem = WordNetLemmatizer()"
   ]
  },
  {
   "cell_type": "code",
   "execution_count": 10,
   "id": "d5966ed8",
   "metadata": {},
   "outputs": [],
   "source": [
    "corpus = []\n",
    "for i in range(len(sent)):\n",
    "    review = re.sub(\"[^a-zA-Z]\", \" \" , sent[i])\n",
    "    review = review.lower()\n",
    "    review = review.split()\n",
    "    review = [lem.lemmatize(word) for word in review if word not in set(stopwords.words(\"English\"))]\n",
    "    review = \" \".join(review)\n",
    "    corpus.append(review)"
   ]
  },
  {
   "cell_type": "code",
   "execution_count": 11,
   "id": "4ea0e445",
   "metadata": {},
   "outputs": [
    {
     "data": {
      "text/plain": [
       "['jawaharlal nehru affectionately known pandit nehru towering figure indian history key architect modern indian nation',\n",
       " 'born november allahabad british india grew influence indian freedom struggle led mahatma gandhi became instrumental leader shaping india destiny independent nation',\n",
       " 'man great intellect nehru educated finest institution india united kingdom acquiring deep understanding various ideology world affair',\n",
       " 'passion welfare indian people dream united democratic secular nation fueled lifelong commitment freedom movement',\n",
       " 'charismatic orator brilliant writer nehru word resonated people across nation motivating join struggle independence',\n",
       " 'vision free india merely political independence encompassed social justice economic equality eradication poverty',\n",
       " 'india gained independence august jawaharlal nehru became first prime minister embarked monumental task nation building',\n",
       " 'laid foundation democratic pluralistic society enshrining principle secularism social welfare individual freedom indian constitution',\n",
       " 'nehru deeply committed education scientific advancement',\n",
       " 'emphasized importance investing human capital establishing network educational institution research center',\n",
       " 'vision led establishment indian institute technology iits indian institute management iims institution played crucial role india development']"
      ]
     },
     "execution_count": 11,
     "metadata": {},
     "output_type": "execute_result"
    }
   ],
   "source": [
    "corpus"
   ]
  },
  {
   "cell_type": "code",
   "execution_count": 12,
   "id": "374f5523",
   "metadata": {},
   "outputs": [],
   "source": [
    "from sklearn.feature_extraction.text import TfidfVectorizer"
   ]
  },
  {
   "cell_type": "code",
   "execution_count": 13,
   "id": "afbd591d",
   "metadata": {},
   "outputs": [],
   "source": [
    "tf = TfidfVectorizer()"
   ]
  },
  {
   "cell_type": "code",
   "execution_count": 14,
   "id": "d90ef0df",
   "metadata": {},
   "outputs": [],
   "source": [
    "x = tf.fit_transform(corpus).toarray()"
   ]
  },
  {
   "cell_type": "code",
   "execution_count": 15,
   "id": "b76ad9a2",
   "metadata": {
    "scrolled": false
   },
   "outputs": [
    {
     "data": {
      "text/plain": [
       "array([[0.        , 0.        , 0.        , ..., 0.        , 0.        ,\n",
       "        0.        ],\n",
       "       [0.        , 0.        , 0.        , ..., 0.        , 0.        ,\n",
       "        0.        ],\n",
       "       [0.25792962, 0.        , 0.        , ..., 0.        , 0.25792962,\n",
       "        0.        ],\n",
       "       ...,\n",
       "       [0.        , 0.        , 0.43161954, ..., 0.        , 0.        ,\n",
       "        0.        ],\n",
       "       [0.        , 0.        , 0.        , ..., 0.        , 0.        ,\n",
       "        0.        ],\n",
       "       [0.        , 0.        , 0.        , ..., 0.        , 0.        ,\n",
       "        0.        ]])"
      ]
     },
     "execution_count": 15,
     "metadata": {},
     "output_type": "execute_result"
    }
   ],
   "source": [
    "x"
   ]
  },
  {
   "cell_type": "markdown",
   "id": "a7355e97",
   "metadata": {},
   "source": [
    "### Exmaple 2"
   ]
  },
  {
   "cell_type": "code",
   "execution_count": 16,
   "id": "91663492",
   "metadata": {},
   "outputs": [],
   "source": [
    "import nltk"
   ]
  },
  {
   "cell_type": "code",
   "execution_count": 17,
   "id": "bf914df2",
   "metadata": {},
   "outputs": [],
   "source": [
    "para2 = \"\"\"Agriculture, often referred to as the backbone of civilization, is the cultivation of plants and the rearing of animals to provide food, fiber, and other essential resources for human sustenance. It is a fundamental practice that has sustained societies for thousands of years, playing a crucial role in the development of human civilization and shaping our relationship with the natural world.\n",
    "\n",
    "From the ancient methods of subsistence farming to the modern era of advanced agricultural technologies, the practice of agriculture has evolved significantly. Today, agriculture not only ensures food security but also drives economic growth, employment, and rural development in many countries.\n",
    "\n",
    "In recent times, sustainable and environmentally friendly practices have gained prominence to address the challenges of climate change and conserve natural resources. As we move forward, innovative agricultural practices, precision farming techniques, and digital advancements are shaping the future of agriculture, aiming to meet the demands of a growing global population while safeguarding the planet's ecological balance.\n",
    "\n",
    "Agriculture embodies the profound connection between humans and the Earth, reminding us of the importance of stewardship and responsible management of our resources. As we strive to strike a balance between productivity and environmental preservation, agriculture remains an integral part of our collective journey towards a more sustainable and prosperous future\"\"\""
   ]
  },
  {
   "cell_type": "code",
   "execution_count": 20,
   "id": "e69788e3",
   "metadata": {},
   "outputs": [],
   "source": [
    "sent2 = nltk.sent_tokenize(para2)"
   ]
  },
  {
   "cell_type": "code",
   "execution_count": 21,
   "id": "0304d590",
   "metadata": {},
   "outputs": [
    {
     "data": {
      "text/plain": [
       "8"
      ]
     },
     "execution_count": 21,
     "metadata": {},
     "output_type": "execute_result"
    }
   ],
   "source": [
    "len(sent2)"
   ]
  },
  {
   "cell_type": "code",
   "execution_count": 22,
   "id": "a2b36d24",
   "metadata": {},
   "outputs": [
    {
     "data": {
      "text/plain": [
       "['Agriculture, often referred to as the backbone of civilization, is the cultivation of plants and the rearing of animals to provide food, fiber, and other essential resources for human sustenance.',\n",
       " 'It is a fundamental practice that has sustained societies for thousands of years, playing a crucial role in the development of human civilization and shaping our relationship with the natural world.',\n",
       " 'From the ancient methods of subsistence farming to the modern era of advanced agricultural technologies, the practice of agriculture has evolved significantly.',\n",
       " 'Today, agriculture not only ensures food security but also drives economic growth, employment, and rural development in many countries.',\n",
       " 'In recent times, sustainable and environmentally friendly practices have gained prominence to address the challenges of climate change and conserve natural resources.',\n",
       " \"As we move forward, innovative agricultural practices, precision farming techniques, and digital advancements are shaping the future of agriculture, aiming to meet the demands of a growing global population while safeguarding the planet's ecological balance.\",\n",
       " 'Agriculture embodies the profound connection between humans and the Earth, reminding us of the importance of stewardship and responsible management of our resources.',\n",
       " 'As we strive to strike a balance between productivity and environmental preservation, agriculture remains an integral part of our collective journey towards a more sustainable and prosperous future']"
      ]
     },
     "execution_count": 22,
     "metadata": {},
     "output_type": "execute_result"
    }
   ],
   "source": [
    "sent2"
   ]
  },
  {
   "cell_type": "code",
   "execution_count": 23,
   "id": "21a63d4a",
   "metadata": {},
   "outputs": [],
   "source": [
    "import re\n",
    "from nltk.corpus import stopwords\n",
    "from nltk.stem import WordNetLemmatizer"
   ]
  },
  {
   "cell_type": "code",
   "execution_count": 24,
   "id": "b7e1653d",
   "metadata": {},
   "outputs": [],
   "source": [
    "lemm = WordNetLemmatizer()"
   ]
  },
  {
   "cell_type": "code",
   "execution_count": 25,
   "id": "34ed3654",
   "metadata": {},
   "outputs": [],
   "source": [
    "cor = []\n",
    "for i in range(len(sent2)):\n",
    "    rev = re.sub(\"[^a-zA-B]\", \" \", sent2[i])\n",
    "    rev = rev.lower()\n",
    "    rev = rev.split()\n",
    "    rev = [lemm.lemmatize(word) for word in rev if word not in set(stopwords.words(\"English\"))]\n",
    "    rev = \" \".join(rev)\n",
    "    cor.append(rev)"
   ]
  },
  {
   "cell_type": "code",
   "execution_count": 26,
   "id": "a9113dea",
   "metadata": {},
   "outputs": [
    {
     "data": {
      "text/plain": [
       "['agriculture often referred backbone civilization cultivation plant rearing animal provide food fiber essential resource human sustenance',\n",
       " 'fundamental practice sustained society thousand year playing crucial role development human civilization shaping relationship natural world',\n",
       " 'rom ancient method subsistence farming modern era advanced agricultural technology practice agriculture evolved significantly',\n",
       " 'oday agriculture ensures food security also drive economic growth employment rural development many country',\n",
       " 'n recent time sustainable environmentally friendly practice gained prominence address challenge climate change conserve natural resource',\n",
       " 'move forward innovative agricultural practice precision farming technique digital advancement shaping future agriculture aiming meet demand growing global population safeguarding planet ecological balance',\n",
       " 'agriculture embodies profound connection human arth reminding u importance stewardship responsible management resource',\n",
       " 'strive strike balance productivity environmental preservation agriculture remains integral part collective journey towards sustainable prosperous future']"
      ]
     },
     "execution_count": 26,
     "metadata": {},
     "output_type": "execute_result"
    }
   ],
   "source": [
    "cor"
   ]
  },
  {
   "cell_type": "code",
   "execution_count": 27,
   "id": "a7d13b68",
   "metadata": {},
   "outputs": [],
   "source": [
    "from sklearn.feature_extraction.text import TfidfVectorizer"
   ]
  },
  {
   "cell_type": "code",
   "execution_count": 28,
   "id": "a1f241ad",
   "metadata": {},
   "outputs": [],
   "source": [
    "tf = TfidfVectorizer()"
   ]
  },
  {
   "cell_type": "code",
   "execution_count": 29,
   "id": "961d9f3f",
   "metadata": {},
   "outputs": [],
   "source": [
    "y = tf.fit_transform(cor).toarray()"
   ]
  },
  {
   "cell_type": "code",
   "execution_count": 30,
   "id": "c3fff3a5",
   "metadata": {
    "scrolled": false
   },
   "outputs": [
    {
     "data": {
      "text/plain": [
       "array([[0.        , 0.        , 0.        , 0.        , 0.13500532,\n",
       "        0.        , 0.        , 0.        , 0.27016692, 0.        ,\n",
       "        0.27016692, 0.        , 0.        , 0.        , 0.22642097,\n",
       "        0.        , 0.        , 0.        , 0.        , 0.        ,\n",
       "        0.        , 0.27016692, 0.        , 0.        , 0.        ,\n",
       "        0.        , 0.        , 0.        , 0.        , 0.        ,\n",
       "        0.        , 0.        , 0.        , 0.        , 0.27016692,\n",
       "        0.        , 0.        , 0.27016692, 0.22642097, 0.        ,\n",
       "        0.        , 0.        , 0.        , 0.        , 0.        ,\n",
       "        0.        , 0.        , 0.19538272, 0.        , 0.        ,\n",
       "        0.        , 0.        , 0.        , 0.        , 0.        ,\n",
       "        0.        , 0.        , 0.        , 0.        , 0.        ,\n",
       "        0.27016692, 0.        , 0.        , 0.27016692, 0.        ,\n",
       "        0.        , 0.        , 0.        , 0.        , 0.        ,\n",
       "        0.        , 0.        , 0.        , 0.27016692, 0.27016692,\n",
       "        0.        , 0.27016692, 0.        , 0.        , 0.        ,\n",
       "        0.19538272, 0.        , 0.        , 0.        , 0.        ,\n",
       "        0.        , 0.        , 0.        , 0.        , 0.        ,\n",
       "        0.        , 0.        , 0.        , 0.        , 0.        ,\n",
       "        0.        , 0.27016692, 0.        , 0.        , 0.        ,\n",
       "        0.        , 0.        , 0.        , 0.        ],\n",
       "       [0.        , 0.        , 0.        , 0.        , 0.        ,\n",
       "        0.        , 0.        , 0.        , 0.        , 0.        ,\n",
       "        0.        , 0.        , 0.        , 0.        , 0.2261398 ,\n",
       "        0.        , 0.        , 0.        , 0.        , 0.        ,\n",
       "        0.26983144, 0.        , 0.        , 0.2261398 , 0.        ,\n",
       "        0.        , 0.        , 0.        , 0.        , 0.        ,\n",
       "        0.        , 0.        , 0.        , 0.        , 0.        ,\n",
       "        0.        , 0.        , 0.        , 0.        , 0.        ,\n",
       "        0.        , 0.26983144, 0.        , 0.        , 0.        ,\n",
       "        0.        , 0.        , 0.1951401 , 0.        , 0.        ,\n",
       "        0.        , 0.        , 0.        , 0.        , 0.        ,\n",
       "        0.        , 0.        , 0.        , 0.2261398 , 0.        ,\n",
       "        0.        , 0.        , 0.        , 0.        , 0.26983144,\n",
       "        0.        , 0.17109485, 0.        , 0.        , 0.        ,\n",
       "        0.        , 0.        , 0.        , 0.        , 0.        ,\n",
       "        0.        , 0.        , 0.26983144, 0.        , 0.        ,\n",
       "        0.        , 0.        , 0.26983144, 0.        , 0.        ,\n",
       "        0.        , 0.        , 0.2261398 , 0.        , 0.26983144,\n",
       "        0.        , 0.        , 0.        , 0.        , 0.        ,\n",
       "        0.26983144, 0.        , 0.        , 0.        , 0.26983144,\n",
       "        0.        , 0.        , 0.26983144, 0.26983144],\n",
       "       [0.        , 0.28799771, 0.        , 0.24136456, 0.14391556,\n",
       "        0.        , 0.        , 0.28799771, 0.        , 0.        ,\n",
       "        0.        , 0.        , 0.        , 0.        , 0.        ,\n",
       "        0.        , 0.        , 0.        , 0.        , 0.        ,\n",
       "        0.        , 0.        , 0.        , 0.        , 0.        ,\n",
       "        0.        , 0.        , 0.        , 0.        , 0.        ,\n",
       "        0.        , 0.        , 0.        , 0.28799771, 0.        ,\n",
       "        0.28799771, 0.24136456, 0.        , 0.        , 0.        ,\n",
       "        0.        , 0.        , 0.        , 0.        , 0.        ,\n",
       "        0.        , 0.        , 0.        , 0.        , 0.        ,\n",
       "        0.        , 0.        , 0.        , 0.        , 0.        ,\n",
       "        0.28799771, 0.28799771, 0.        , 0.        , 0.        ,\n",
       "        0.        , 0.        , 0.        , 0.        , 0.        ,\n",
       "        0.        , 0.18261374, 0.        , 0.        , 0.        ,\n",
       "        0.        , 0.        , 0.        , 0.        , 0.        ,\n",
       "        0.        , 0.        , 0.        , 0.        , 0.        ,\n",
       "        0.        , 0.        , 0.        , 0.28799771, 0.        ,\n",
       "        0.        , 0.        , 0.        , 0.28799771, 0.        ,\n",
       "        0.        , 0.        , 0.        , 0.28799771, 0.        ,\n",
       "        0.        , 0.        , 0.        , 0.28799771, 0.        ,\n",
       "        0.        , 0.        , 0.        , 0.        ],\n",
       "       [0.        , 0.        , 0.        , 0.        , 0.1404743 ,\n",
       "        0.        , 0.28111122, 0.        , 0.        , 0.        ,\n",
       "        0.        , 0.        , 0.        , 0.        , 0.        ,\n",
       "        0.        , 0.        , 0.        , 0.        , 0.28111122,\n",
       "        0.        , 0.        , 0.        , 0.23559314, 0.        ,\n",
       "        0.28111122, 0.        , 0.28111122, 0.        , 0.28111122,\n",
       "        0.28111122, 0.        , 0.        , 0.        , 0.        ,\n",
       "        0.        , 0.        , 0.        , 0.23559314, 0.        ,\n",
       "        0.        , 0.        , 0.        , 0.        , 0.        ,\n",
       "        0.        , 0.28111122, 0.        , 0.        , 0.        ,\n",
       "        0.        , 0.        , 0.        , 0.28111122, 0.        ,\n",
       "        0.        , 0.        , 0.        , 0.        , 0.28111122,\n",
       "        0.        , 0.        , 0.        , 0.        , 0.        ,\n",
       "        0.        , 0.        , 0.        , 0.        , 0.        ,\n",
       "        0.        , 0.        , 0.        , 0.        , 0.        ,\n",
       "        0.        , 0.        , 0.        , 0.        , 0.        ,\n",
       "        0.        , 0.        , 0.        , 0.        , 0.28111122,\n",
       "        0.        , 0.28111122, 0.        , 0.        , 0.        ,\n",
       "        0.        , 0.        , 0.        , 0.        , 0.        ,\n",
       "        0.        , 0.        , 0.        , 0.        , 0.        ,\n",
       "        0.        , 0.        , 0.        , 0.        ],\n",
       "       [0.27389742, 0.        , 0.        , 0.        , 0.        ,\n",
       "        0.        , 0.        , 0.        , 0.        , 0.        ,\n",
       "        0.        , 0.        , 0.27389742, 0.27389742, 0.        ,\n",
       "        0.27389742, 0.        , 0.        , 0.27389742, 0.        ,\n",
       "        0.        , 0.        , 0.        , 0.        , 0.        ,\n",
       "        0.        , 0.        , 0.        , 0.        , 0.        ,\n",
       "        0.        , 0.        , 0.27389742, 0.        , 0.        ,\n",
       "        0.        , 0.        , 0.        , 0.        , 0.        ,\n",
       "        0.27389742, 0.        , 0.        , 0.27389742, 0.        ,\n",
       "        0.        , 0.        , 0.        , 0.        , 0.        ,\n",
       "        0.        , 0.        , 0.        , 0.        , 0.        ,\n",
       "        0.        , 0.        , 0.        , 0.22954741, 0.        ,\n",
       "        0.        , 0.        , 0.        , 0.        , 0.        ,\n",
       "        0.        , 0.17367301, 0.        , 0.        , 0.        ,\n",
       "        0.        , 0.27389742, 0.        , 0.        , 0.        ,\n",
       "        0.27389742, 0.        , 0.        , 0.        , 0.        ,\n",
       "        0.19808058, 0.        , 0.        , 0.        , 0.        ,\n",
       "        0.        , 0.        , 0.        , 0.        , 0.        ,\n",
       "        0.        , 0.        , 0.        , 0.        , 0.22954741,\n",
       "        0.        , 0.        , 0.        , 0.        , 0.        ,\n",
       "        0.27389742, 0.        , 0.        , 0.        ],\n",
       "       [0.        , 0.        , 0.22269758, 0.18663795, 0.11128438,\n",
       "        0.22269758, 0.        , 0.        , 0.        , 0.        ,\n",
       "        0.        , 0.18663795, 0.        , 0.        , 0.        ,\n",
       "        0.        , 0.        , 0.        , 0.        , 0.        ,\n",
       "        0.        , 0.        , 0.22269758, 0.        , 0.22269758,\n",
       "        0.        , 0.22269758, 0.        , 0.        , 0.        ,\n",
       "        0.        , 0.        , 0.        , 0.        , 0.        ,\n",
       "        0.        , 0.18663795, 0.        , 0.        , 0.22269758,\n",
       "        0.        , 0.        , 0.18663795, 0.        , 0.22269758,\n",
       "        0.22269758, 0.        , 0.        , 0.        , 0.22269758,\n",
       "        0.        , 0.        , 0.        , 0.        , 0.22269758,\n",
       "        0.        , 0.        , 0.22269758, 0.        , 0.        ,\n",
       "        0.        , 0.        , 0.22269758, 0.        , 0.        ,\n",
       "        0.22269758, 0.1412082 , 0.22269758, 0.        , 0.        ,\n",
       "        0.        , 0.        , 0.        , 0.        , 0.        ,\n",
       "        0.        , 0.        , 0.        , 0.        , 0.        ,\n",
       "        0.        , 0.        , 0.        , 0.        , 0.        ,\n",
       "        0.22269758, 0.        , 0.18663795, 0.        , 0.        ,\n",
       "        0.        , 0.        , 0.        , 0.        , 0.        ,\n",
       "        0.        , 0.        , 0.22269758, 0.        , 0.        ,\n",
       "        0.        , 0.        , 0.        , 0.        ],\n",
       "       [0.        , 0.        , 0.        , 0.        , 0.15573643,\n",
       "        0.        , 0.        , 0.        , 0.        , 0.31165315,\n",
       "        0.        , 0.        , 0.        , 0.        , 0.        ,\n",
       "        0.        , 0.        , 0.31165315, 0.        , 0.        ,\n",
       "        0.        , 0.        , 0.        , 0.        , 0.        ,\n",
       "        0.        , 0.        , 0.        , 0.31165315, 0.        ,\n",
       "        0.        , 0.        , 0.        , 0.        , 0.        ,\n",
       "        0.        , 0.        , 0.        , 0.        , 0.        ,\n",
       "        0.        , 0.        , 0.        , 0.        , 0.        ,\n",
       "        0.        , 0.        , 0.22538525, 0.31165315, 0.        ,\n",
       "        0.        , 0.        , 0.31165315, 0.        , 0.        ,\n",
       "        0.        , 0.        , 0.        , 0.        , 0.        ,\n",
       "        0.        , 0.        , 0.        , 0.        , 0.        ,\n",
       "        0.        , 0.        , 0.        , 0.        , 0.        ,\n",
       "        0.31165315, 0.        , 0.        , 0.        , 0.        ,\n",
       "        0.        , 0.        , 0.        , 0.        , 0.31165315,\n",
       "        0.22538525, 0.31165315, 0.        , 0.        , 0.        ,\n",
       "        0.        , 0.        , 0.        , 0.        , 0.        ,\n",
       "        0.31165315, 0.        , 0.        , 0.        , 0.        ,\n",
       "        0.        , 0.        , 0.        , 0.        , 0.        ,\n",
       "        0.        , 0.        , 0.        , 0.        ],\n",
       "       [0.        , 0.        , 0.        , 0.        , 0.13188316,\n",
       "        0.        , 0.        , 0.        , 0.        , 0.        ,\n",
       "        0.        , 0.22118471, 0.        , 0.        , 0.        ,\n",
       "        0.        , 0.26391899, 0.        , 0.        , 0.        ,\n",
       "        0.        , 0.        , 0.        , 0.        , 0.        ,\n",
       "        0.        , 0.        , 0.        , 0.        , 0.        ,\n",
       "        0.        , 0.26391899, 0.        , 0.        , 0.        ,\n",
       "        0.        , 0.        , 0.        , 0.        , 0.        ,\n",
       "        0.        , 0.        , 0.22118471, 0.        , 0.        ,\n",
       "        0.        , 0.        , 0.        , 0.        , 0.        ,\n",
       "        0.26391899, 0.26391899, 0.        , 0.        , 0.        ,\n",
       "        0.        , 0.        , 0.        , 0.        , 0.        ,\n",
       "        0.        , 0.26391899, 0.        , 0.        , 0.        ,\n",
       "        0.        , 0.        , 0.        , 0.26391899, 0.26391899,\n",
       "        0.        , 0.        , 0.26391899, 0.        , 0.        ,\n",
       "        0.        , 0.        , 0.        , 0.26391899, 0.        ,\n",
       "        0.        , 0.        , 0.        , 0.        , 0.        ,\n",
       "        0.        , 0.        , 0.        , 0.        , 0.        ,\n",
       "        0.        , 0.26391899, 0.26391899, 0.        , 0.22118471,\n",
       "        0.        , 0.        , 0.        , 0.        , 0.        ,\n",
       "        0.        , 0.26391899, 0.        , 0.        ]])"
      ]
     },
     "execution_count": 30,
     "metadata": {},
     "output_type": "execute_result"
    }
   ],
   "source": [
    "y"
   ]
  },
  {
   "cell_type": "code",
   "execution_count": null,
   "id": "fc48e470",
   "metadata": {},
   "outputs": [],
   "source": []
  }
 ],
 "metadata": {
  "kernelspec": {
   "display_name": "Python 3",
   "language": "python",
   "name": "python3"
  },
  "language_info": {
   "codemirror_mode": {
    "name": "ipython",
    "version": 3
   },
   "file_extension": ".py",
   "mimetype": "text/x-python",
   "name": "python",
   "nbconvert_exporter": "python",
   "pygments_lexer": "ipython3",
   "version": "3.8.8"
  }
 },
 "nbformat": 4,
 "nbformat_minor": 5
}
