{
 "cells": [
  {
   "cell_type": "markdown",
   "id": "68f3d361",
   "metadata": {},
   "source": [
    "### Exmaple 1"
   ]
  },
  {
   "cell_type": "code",
   "execution_count": 1,
   "id": "bdf31fcb",
   "metadata": {},
   "outputs": [],
   "source": [
    "import nltk\n",
    "from nltk.stem import PorterStemmer\n",
    "from nltk.corpus import stopwords"
   ]
  },
  {
   "cell_type": "code",
   "execution_count": 2,
   "id": "93d9b62b",
   "metadata": {},
   "outputs": [],
   "source": [
    "para = \"\"\"Although Gandhi was not the originator of the principle of nonviolence, he was the first to apply it in the political field on a large scale.[241][3] The concept of nonviolence (ahimsa) has a long history in Indian religious thought, \n",
    "and is considered the highest dharma (ethical value virtue), a precept to be observed towards all living beings (sarvbhuta), at all times (sarvada), in all respects (sarvatha), in action, words and thought.[242] Gandhi explains his philosophy \n",
    "and ideas about ahimsa as a political means in his autobiography The Story of My Experiments with Truth.[243][244][245][246]\n",
    "Gandhi's views came under heavy criticism in Britain when it was under attack from Nazi Germany, and later when the Holocaust was revealed. \n",
    "He told the British people in 1940, \"I would like you to lay down the arms you have as being useless for saving you or humanity.\n",
    "You will invite Herr Hitler and Signor Mussolini to take what they want of the countries you call your possessions... \n",
    "If these gentlemen choose to occupy your homes, you will vacate them. If they do not give you free passage out, \n",
    "you will allow yourselves, man, woman, and child, to be slaughtered, but you will refuse to owe allegiance to them.\"[247] \n",
    "George Orwell remarked that Gandhi's methods confronted \"an old-fashioned and rather shaky despotism which treated him in a fairly chivalrous way\", not a totalitarian power, \"where political opponents simply disappear.\"\"\""
   ]
  },
  {
   "cell_type": "code",
   "execution_count": 3,
   "id": "95807179",
   "metadata": {},
   "outputs": [],
   "source": [
    "# convert para into sentence \n",
    "sent = nltk.sent_tokenize(para)"
   ]
  },
  {
   "cell_type": "code",
   "execution_count": 4,
   "id": "1d80abf1",
   "metadata": {},
   "outputs": [
    {
     "data": {
      "text/plain": [
       "['Although Gandhi was not the originator of the principle of nonviolence, he was the first to apply it in the political field on a large scale.',\n",
       " '[241][3] The concept of nonviolence (ahimsa) has a long history in Indian religious thought, \\nand is considered the highest dharma (ethical value virtue), a precept to be observed towards all living beings (sarvbhuta), at all times (sarvada), in all respects (sarvatha), in action, words and thought.',\n",
       " '[242] Gandhi explains his philosophy \\nand ideas about ahimsa as a political means in his autobiography The Story of My Experiments with Truth.',\n",
       " \"[243][244][245][246]\\nGandhi's views came under heavy criticism in Britain when it was under attack from Nazi Germany, and later when the Holocaust was revealed.\",\n",
       " 'He told the British people in 1940, \"I would like you to lay down the arms you have as being useless for saving you or humanity.',\n",
       " 'You will invite Herr Hitler and Signor Mussolini to take what they want of the countries you call your possessions...',\n",
       " 'If these gentlemen choose to occupy your homes, you will vacate them.',\n",
       " 'If they do not give you free passage out, \\nyou will allow yourselves, man, woman, and child, to be slaughtered, but you will refuse to owe allegiance to them.',\n",
       " '\"[247] \\nGeorge Orwell remarked that Gandhi\\'s methods confronted \"an old-fashioned and rather shaky despotism which treated him in a fairly chivalrous way\", not a totalitarian power, \"where political opponents simply disappear.']"
      ]
     },
     "execution_count": 4,
     "metadata": {},
     "output_type": "execute_result"
    }
   ],
   "source": [
    "sent"
   ]
  },
  {
   "cell_type": "code",
   "execution_count": 5,
   "id": "549ed7fa",
   "metadata": {},
   "outputs": [
    {
     "data": {
      "text/plain": [
       "9"
      ]
     },
     "execution_count": 5,
     "metadata": {},
     "output_type": "execute_result"
    }
   ],
   "source": [
    "len(sent)"
   ]
  },
  {
   "cell_type": "code",
   "execution_count": 6,
   "id": "041a2d8c",
   "metadata": {},
   "outputs": [
    {
     "data": {
      "text/plain": [
       "['i',\n",
       " 'me',\n",
       " 'my',\n",
       " 'myself',\n",
       " 'we',\n",
       " 'our',\n",
       " 'ours',\n",
       " 'ourselves',\n",
       " 'you',\n",
       " \"you're\",\n",
       " \"you've\",\n",
       " \"you'll\",\n",
       " \"you'd\",\n",
       " 'your',\n",
       " 'yours',\n",
       " 'yourself',\n",
       " 'yourselves',\n",
       " 'he',\n",
       " 'him',\n",
       " 'his',\n",
       " 'himself',\n",
       " 'she',\n",
       " \"she's\",\n",
       " 'her',\n",
       " 'hers',\n",
       " 'herself',\n",
       " 'it',\n",
       " \"it's\",\n",
       " 'its',\n",
       " 'itself',\n",
       " 'they',\n",
       " 'them',\n",
       " 'their',\n",
       " 'theirs',\n",
       " 'themselves',\n",
       " 'what',\n",
       " 'which',\n",
       " 'who',\n",
       " 'whom',\n",
       " 'this',\n",
       " 'that',\n",
       " \"that'll\",\n",
       " 'these',\n",
       " 'those',\n",
       " 'am',\n",
       " 'is',\n",
       " 'are',\n",
       " 'was',\n",
       " 'were',\n",
       " 'be',\n",
       " 'been',\n",
       " 'being',\n",
       " 'have',\n",
       " 'has',\n",
       " 'had',\n",
       " 'having',\n",
       " 'do',\n",
       " 'does',\n",
       " 'did',\n",
       " 'doing',\n",
       " 'a',\n",
       " 'an',\n",
       " 'the',\n",
       " 'and',\n",
       " 'but',\n",
       " 'if',\n",
       " 'or',\n",
       " 'because',\n",
       " 'as',\n",
       " 'until',\n",
       " 'while',\n",
       " 'of',\n",
       " 'at',\n",
       " 'by',\n",
       " 'for',\n",
       " 'with',\n",
       " 'about',\n",
       " 'against',\n",
       " 'between',\n",
       " 'into',\n",
       " 'through',\n",
       " 'during',\n",
       " 'before',\n",
       " 'after',\n",
       " 'above',\n",
       " 'below',\n",
       " 'to',\n",
       " 'from',\n",
       " 'up',\n",
       " 'down',\n",
       " 'in',\n",
       " 'out',\n",
       " 'on',\n",
       " 'off',\n",
       " 'over',\n",
       " 'under',\n",
       " 'again',\n",
       " 'further',\n",
       " 'then',\n",
       " 'once',\n",
       " 'here',\n",
       " 'there',\n",
       " 'when',\n",
       " 'where',\n",
       " 'why',\n",
       " 'how',\n",
       " 'all',\n",
       " 'any',\n",
       " 'both',\n",
       " 'each',\n",
       " 'few',\n",
       " 'more',\n",
       " 'most',\n",
       " 'other',\n",
       " 'some',\n",
       " 'such',\n",
       " 'no',\n",
       " 'nor',\n",
       " 'not',\n",
       " 'only',\n",
       " 'own',\n",
       " 'same',\n",
       " 'so',\n",
       " 'than',\n",
       " 'too',\n",
       " 'very',\n",
       " 's',\n",
       " 't',\n",
       " 'can',\n",
       " 'will',\n",
       " 'just',\n",
       " 'don',\n",
       " \"don't\",\n",
       " 'should',\n",
       " \"should've\",\n",
       " 'now',\n",
       " 'd',\n",
       " 'll',\n",
       " 'm',\n",
       " 'o',\n",
       " 're',\n",
       " 've',\n",
       " 'y',\n",
       " 'ain',\n",
       " 'aren',\n",
       " \"aren't\",\n",
       " 'couldn',\n",
       " \"couldn't\",\n",
       " 'didn',\n",
       " \"didn't\",\n",
       " 'doesn',\n",
       " \"doesn't\",\n",
       " 'hadn',\n",
       " \"hadn't\",\n",
       " 'hasn',\n",
       " \"hasn't\",\n",
       " 'haven',\n",
       " \"haven't\",\n",
       " 'isn',\n",
       " \"isn't\",\n",
       " 'ma',\n",
       " 'mightn',\n",
       " \"mightn't\",\n",
       " 'mustn',\n",
       " \"mustn't\",\n",
       " 'needn',\n",
       " \"needn't\",\n",
       " 'shan',\n",
       " \"shan't\",\n",
       " 'shouldn',\n",
       " \"shouldn't\",\n",
       " 'wasn',\n",
       " \"wasn't\",\n",
       " 'weren',\n",
       " \"weren't\",\n",
       " 'won',\n",
       " \"won't\",\n",
       " 'wouldn',\n",
       " \"wouldn't\"]"
      ]
     },
     "execution_count": 6,
     "metadata": {},
     "output_type": "execute_result"
    }
   ],
   "source": [
    "stopwords.words(\"English\")  #this all are the stop words that does not make any sense in nlp"
   ]
  },
  {
   "cell_type": "code",
   "execution_count": 7,
   "id": "e488175e",
   "metadata": {},
   "outputs": [],
   "source": [
    "stemmer = PorterStemmer()"
   ]
  },
  {
   "cell_type": "code",
   "execution_count": 13,
   "id": "0f73d86a",
   "metadata": {},
   "outputs": [],
   "source": [
    "for i in range(len(sent)):\n",
    "    words = nltk.word_tokenize(sent[i])\n",
    "    words = [stemmer.stem(word) for word in words if word not in set(stopwords.words(\"English\"))]\n",
    "    sent[i] = \" \".join(words)"
   ]
  },
  {
   "cell_type": "code",
   "execution_count": 14,
   "id": "c68ed99a",
   "metadata": {},
   "outputs": [
    {
     "data": {
      "text/plain": [
       "['althoughgandhioriginprinciplnonviol , firstapplipolitfieldlargscal .',\n",
       " '[ 241 ] [ 3 ] theconceptnonviol ( ahimsa ) longhistoriindianreligithought , considhighestdharma ( ethicvaluvirtu ) , preceptobservtowardliveb ( sarvbhuta ) , time ( sarvada ) , respect ( sarvatha ) , action , wordthought .',\n",
       " '[ 242 ] gandhiexplainphilosophiideaahimsapolitmeanautobiographithestorimyexperitruth .',\n",
       " \"[ 243 ] [ 244 ] [ 245 ] [ 246 ] gandhi'sviewcameheavicriticbritainattacknazigermani , laterholocaustrev .\",\n",
       " 'hetoldbritishpeopl1940 , `` iwouldlikelayarmuselesssavehuman .',\n",
       " 'youinvitherrhitlersignormussolinitakewantcountricallpossess ...',\n",
       " 'ifgentlemenchoosoccupihom , vacat .',\n",
       " 'ifgivefreepassag , allow , man , woman , child , slaughter , refusoweallegi .',\n",
       " \"`` [ 247 ] georgorwelremarkgandhi'smethodconfront `` old-fashionrathershakidespottreatfairlichivalrway '' , totalitarianpow , `` politopponsimplidisappear .\"]"
      ]
     },
     "execution_count": 14,
     "metadata": {},
     "output_type": "execute_result"
    }
   ],
   "source": [
    "sent"
   ]
  },
  {
   "cell_type": "markdown",
   "id": "6716ddce",
   "metadata": {},
   "source": [
    "### example 2"
   ]
  },
  {
   "cell_type": "code",
   "execution_count": 15,
   "id": "92c593a7",
   "metadata": {},
   "outputs": [],
   "source": [
    "para2 = \"\"\"In the vast expanse of the cosmos, stars gleam like scattered diamonds against the dark canvas of space, hinting at the unfathomable mysteries that lie beyond our grasp. Galaxies, like cosmic tapestries, stretch across billions of light-years, weaving tales of birth, death, and transformation on an unimaginable scale. Among them, our home, the Milky Way, twirls in an elegant dance, harboring billions of stars, planets, and celestial wonders, inviting us to ponder our place in the grand symphony of the universe.\n",
    "\n",
    "On our tiny blue planet, Earth, life flourishes in diverse forms, from the microscopic to the majestic. Eons of evolution have shaped every living organism into a unique masterpiece, each one intricately connected to the web of life, sustaining the delicate balance that allows our world to thrive. The ebb and flow of nature paint a vivid picture of resilience and adaptation, as species endure challenges and changes, inspiring awe and wonder in those who seek to understand their remarkable resilience.\n",
    "\n",
    "Humanity, the prodigious child of this intricate tapestry, has traversed an astonishing journey throughout its existence. From the cradle of civilization to the modern age, we have demonstrated an unparalleled capacity for innovation, creativity, and discovery. Our collective quest for knowledge has unlocked the secrets of the atom, paved pathways to the stars, and harnessed the power of technology, catapulting us into an era of rapid advancement.\"\"\""
   ]
  },
  {
   "cell_type": "code",
   "execution_count": 18,
   "id": "d49f1d2d",
   "metadata": {},
   "outputs": [],
   "source": [
    "sent2 = nltk.sent_tokenize(para2)"
   ]
  },
  {
   "cell_type": "code",
   "execution_count": 19,
   "id": "6bee74c9",
   "metadata": {},
   "outputs": [
    {
     "data": {
      "text/plain": [
       "9"
      ]
     },
     "execution_count": 19,
     "metadata": {},
     "output_type": "execute_result"
    }
   ],
   "source": [
    "len(sent2)"
   ]
  },
  {
   "cell_type": "code",
   "execution_count": 20,
   "id": "a266ff69",
   "metadata": {},
   "outputs": [],
   "source": [
    "stemmer = PorterStemmer()"
   ]
  },
  {
   "cell_type": "code",
   "execution_count": 25,
   "id": "9fefa8c3",
   "metadata": {},
   "outputs": [],
   "source": [
    "for i in range(len(sent2)):\n",
    "    words = nltk.word_tokenize(sent2[i])\n",
    "    words = [stemmer.stem(word) for word in words if word not in set(stopwords.words(\"English\"))]\n",
    "    sent2[i] = \" \".join(words)"
   ]
  },
  {
   "cell_type": "code",
   "execution_count": 26,
   "id": "702012af",
   "metadata": {},
   "outputs": [
    {
     "data": {
      "text/plain": [
       "['vast expan cosmo , star gleam like scatter diamond dark canva space , hint unfathom mysteri lie beyond grasp .',\n",
       " 'galaxi , like cosmic tapestri , stretch across billion light-year , weav tale birth , death , transform unimagin scale .',\n",
       " 'among , home , milki way , twirl eleg danc , harbor billion star , planet , celesti wonder , invit us ponder place grand symphoni univ .',\n",
       " 'tini blue planet , earth , life flourish diver form , microscop majest .',\n",
       " 'eon evolut shape everi live organ uniqu masterpiec , one intric connect web life , sustain delic balanc allow world thrive .',\n",
       " 'ebb flow natur paint vivid pictur resili adapt , speci endur challeng chang , inspir awe wonder seek understand remark resili .',\n",
       " 'human , prodigi child intric tapestri , traver astonish journey throughout exist .',\n",
       " 'cradl civil modern age , demonstr unparallel capac innov , creativ , discoveri .',\n",
       " 'collect quest knowledg unlock secret atom , pave pathway star , har power technolog , catapult us era rapid advanc .']"
      ]
     },
     "execution_count": 26,
     "metadata": {},
     "output_type": "execute_result"
    }
   ],
   "source": [
    "sent2"
   ]
  },
  {
   "cell_type": "code",
   "execution_count": null,
   "id": "98eff4d9",
   "metadata": {},
   "outputs": [],
   "source": []
  }
 ],
 "metadata": {
  "kernelspec": {
   "display_name": "Python 3",
   "language": "python",
   "name": "python3"
  },
  "language_info": {
   "codemirror_mode": {
    "name": "ipython",
    "version": 3
   },
   "file_extension": ".py",
   "mimetype": "text/x-python",
   "name": "python",
   "nbconvert_exporter": "python",
   "pygments_lexer": "ipython3",
   "version": "3.8.8"
  }
 },
 "nbformat": 4,
 "nbformat_minor": 5
}
