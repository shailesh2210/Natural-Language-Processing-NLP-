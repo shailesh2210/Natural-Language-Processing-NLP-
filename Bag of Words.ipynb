{
 "cells": [
  {
   "cell_type": "markdown",
   "id": "459f3284",
   "metadata": {},
   "source": [
    "### 1 example with stemming"
   ]
  },
  {
   "cell_type": "code",
   "execution_count": 1,
   "id": "aba40f9d",
   "metadata": {},
   "outputs": [],
   "source": [
    "import re\n",
    "import nltk\n",
    "from nltk.stem import PorterStemmer\n",
    "from nltk.stem import WordNetLemmatizer\n",
    "from nltk.corpus import stopwords"
   ]
  },
  {
   "cell_type": "code",
   "execution_count": 2,
   "id": "f2f1f1fb",
   "metadata": {},
   "outputs": [],
   "source": [
    "para = \"\"\"in the depths of the human psyche lies an unquenchable thirst for knowledge, a relentless pursuit of understanding the world and our place within it. The frontiers of science, once distant and mysterious, now beckon us with open arms, inviting us to unravel the enigmas of the cosmos and the intricacies of the human mind. From deciphering the fundamental building blocks of matter to exploring the depths of quantum mechanics, the essence of reality unveils itself, inspiring wonder and awe in the hearts of those who dare to delve deeper.\n",
    "\n",
    "The realms of medicine and biotechnology have witnessed unprecedented breakthroughs, pushing the boundaries of human health and longevity. Gene-editing technologies hold the promise of eradicating hereditary diseases, while regenerative medicine sparks hope for the regeneration of organs and tissues. In the face of pandemics and global health challenges, our resilience shines as scientists collaborate across borders to develop vaccines and treatments, exemplifying the triumph of human cooperation and the power of collective knowledge.\n",
    "\n",
    "As the digital age progresses, the fusion of physical and virtual realities blurs the lines between the tangible and the intangible. Virtual and augmented reality technologies immerse us in worlds of limitless potential, revolutionizing industries from entertainment and education to healthcare and design. The advent of blockchain technology has sparked a decentralized revolution, reshaping finance, governance, and identity management, empowering individuals with newfound autonomy over their digital lives.\n",
    "\n",
    "However, with these advancements come ethical quandaries that demand profound introspection. The rise of automation and artificial intelligence raises concerns about job displacement and the future of work. Striking the delicate balance between progress and preserving human dignity challenges society to redefine its values and the nature of meaningful existence.\n",
    "\n",
    "In the tapestry of culture and arts, humanity weaves its narratives, conveying the essence of our shared human experience. Literature, music, and visual arts transcend language and borders, connecting souls and sparking introspection. Cultural exchange enriches our understanding of one another, promoting tolerance, and celebrating diversity as a vibrant tapestry of stories, beliefs, and customs.\n",
    "\n",
    "As we continue to navigate this ever-changing landscape, the need for moral compasses and wise leadership becomes ever more apparent. Global challenges, such as climate change, mass migration, and social inequality, demand collective action and unity. It is through compassionate collaboration that we can mend the frayed threads of society, bridging divides and empowering marginalized communities, ensuring that no voice is lost in the symphony of humanity.\n",
    "\n",
    "\"\"\""
   ]
  },
  {
   "cell_type": "code",
   "execution_count": 3,
   "id": "28849dfa",
   "metadata": {},
   "outputs": [],
   "source": [
    "ps = PorterStemmer()\n",
    "lem = WordNetLemmatizer()"
   ]
  },
  {
   "cell_type": "code",
   "execution_count": 4,
   "id": "122b1711",
   "metadata": {},
   "outputs": [],
   "source": [
    "sent = nltk.sent_tokenize(para)"
   ]
  },
  {
   "cell_type": "code",
   "execution_count": 5,
   "id": "9fe61b63",
   "metadata": {},
   "outputs": [
    {
     "data": {
      "text/plain": [
       "18"
      ]
     },
     "execution_count": 5,
     "metadata": {},
     "output_type": "execute_result"
    }
   ],
   "source": [
    "len(sent)"
   ]
  },
  {
   "cell_type": "code",
   "execution_count": 6,
   "id": "8c746ad7",
   "metadata": {},
   "outputs": [
    {
     "data": {
      "text/plain": [
       "['in the depths of the human psyche lies an unquenchable thirst for knowledge, a relentless pursuit of understanding the world and our place within it.',\n",
       " 'The frontiers of science, once distant and mysterious, now beckon us with open arms, inviting us to unravel the enigmas of the cosmos and the intricacies of the human mind.',\n",
       " 'From deciphering the fundamental building blocks of matter to exploring the depths of quantum mechanics, the essence of reality unveils itself, inspiring wonder and awe in the hearts of those who dare to delve deeper.',\n",
       " 'The realms of medicine and biotechnology have witnessed unprecedented breakthroughs, pushing the boundaries of human health and longevity.',\n",
       " 'Gene-editing technologies hold the promise of eradicating hereditary diseases, while regenerative medicine sparks hope for the regeneration of organs and tissues.',\n",
       " 'In the face of pandemics and global health challenges, our resilience shines as scientists collaborate across borders to develop vaccines and treatments, exemplifying the triumph of human cooperation and the power of collective knowledge.',\n",
       " 'As the digital age progresses, the fusion of physical and virtual realities blurs the lines between the tangible and the intangible.',\n",
       " 'Virtual and augmented reality technologies immerse us in worlds of limitless potential, revolutionizing industries from entertainment and education to healthcare and design.',\n",
       " 'The advent of blockchain technology has sparked a decentralized revolution, reshaping finance, governance, and identity management, empowering individuals with newfound autonomy over their digital lives.',\n",
       " 'However, with these advancements come ethical quandaries that demand profound introspection.',\n",
       " 'The rise of automation and artificial intelligence raises concerns about job displacement and the future of work.',\n",
       " 'Striking the delicate balance between progress and preserving human dignity challenges society to redefine its values and the nature of meaningful existence.',\n",
       " 'In the tapestry of culture and arts, humanity weaves its narratives, conveying the essence of our shared human experience.',\n",
       " 'Literature, music, and visual arts transcend language and borders, connecting souls and sparking introspection.',\n",
       " 'Cultural exchange enriches our understanding of one another, promoting tolerance, and celebrating diversity as a vibrant tapestry of stories, beliefs, and customs.',\n",
       " 'As we continue to navigate this ever-changing landscape, the need for moral compasses and wise leadership becomes ever more apparent.',\n",
       " 'Global challenges, such as climate change, mass migration, and social inequality, demand collective action and unity.',\n",
       " 'It is through compassionate collaboration that we can mend the frayed threads of society, bridging divides and empowering marginalized communities, ensuring that no voice is lost in the symphony of humanity.']"
      ]
     },
     "execution_count": 6,
     "metadata": {},
     "output_type": "execute_result"
    }
   ],
   "source": [
    "sent"
   ]
  },
  {
   "cell_type": "code",
   "execution_count": 8,
   "id": "ad41e1a7",
   "metadata": {},
   "outputs": [],
   "source": [
    "corpus = []\n",
    "for i in range(len(sent)):\n",
    "    review = re.sub(\"[^a-zA-Z]\", \" \", sent[i])\n",
    "    review = review.lower()\n",
    "    review = review.split()\n",
    "    review = [ps.stem(word) for word in review if word not in set(stopwords.words(\"English\"))]\n",
    "    review = \" \".join(review)\n",
    "    corpus.append(review)"
   ]
  },
  {
   "cell_type": "code",
   "execution_count": 9,
   "id": "cb21acea",
   "metadata": {},
   "outputs": [
    {
     "data": {
      "text/plain": [
       "['depth human psych lie unquench thirst knowledg relentless pursuit understand world place within',\n",
       " 'frontier scienc distant mysteri beckon us open arm invit us unravel enigma cosmo intricaci human mind',\n",
       " 'deciph fundament build block matter explor depth quantum mechan essenc realiti unveil inspir wonder awe heart dare delv deeper',\n",
       " 'realm medicin biotechnolog wit unpreced breakthrough push boundari human health longev',\n",
       " 'gene edit technolog hold promis erad hereditari diseas regen medicin spark hope regener organ tissu',\n",
       " 'face pandem global health challeng resili shine scientist collabor across border develop vaccin treatment exemplifi triumph human cooper power collect knowledg',\n",
       " 'digit age progress fusion physic virtual realiti blur line tangibl intang',\n",
       " 'virtual augment realiti technolog immers us world limitless potenti revolution industri entertain educ healthcar design',\n",
       " 'advent blockchain technolog spark decentr revolut reshap financ govern ident manag empow individu newfound autonomi digit live',\n",
       " 'howev advanc come ethic quandari demand profound introspect',\n",
       " 'rise autom artifici intellig rais concern job displac futur work',\n",
       " 'strike delic balanc progress preserv human digniti challeng societi redefin valu natur meaning exist',\n",
       " 'tapestri cultur art human weav narr convey essenc share human experi',\n",
       " 'literatur music visual art transcend languag border connect soul spark introspect',\n",
       " 'cultur exchang enrich understand one anoth promot toler celebr divers vibrant tapestri stori belief custom',\n",
       " 'continu navig ever chang landscap need moral compass wise leadership becom ever appar',\n",
       " 'global challeng climat chang mass migrat social inequ demand collect action uniti',\n",
       " 'compassion collabor mend fray thread societi bridg divid empow margin commun ensur voic lost symphoni human']"
      ]
     },
     "execution_count": 9,
     "metadata": {},
     "output_type": "execute_result"
    }
   ],
   "source": [
    "corpus"
   ]
  },
  {
   "cell_type": "code",
   "execution_count": 10,
   "id": "78d073e6",
   "metadata": {},
   "outputs": [],
   "source": [
    "from sklearn.feature_extraction.text import CountVectorizer"
   ]
  },
  {
   "cell_type": "code",
   "execution_count": 11,
   "id": "61d6e97e",
   "metadata": {},
   "outputs": [],
   "source": [
    "cv = CountVectorizer()"
   ]
  },
  {
   "cell_type": "code",
   "execution_count": 13,
   "id": "32044812",
   "metadata": {},
   "outputs": [],
   "source": [
    "# fit_transform is responsible for creating matrix\n",
    "x = cv.fit_transform(corpus).toarray()"
   ]
  },
  {
   "cell_type": "code",
   "execution_count": 14,
   "id": "77aec6b4",
   "metadata": {},
   "outputs": [
    {
     "data": {
      "text/plain": [
       "array([[0, 0, 0, ..., 0, 0, 1],\n",
       "       [0, 0, 0, ..., 0, 0, 0],\n",
       "       [0, 0, 0, ..., 1, 0, 0],\n",
       "       ...,\n",
       "       [0, 0, 0, ..., 0, 0, 0],\n",
       "       [0, 1, 0, ..., 0, 0, 0],\n",
       "       [0, 0, 0, ..., 0, 0, 0]], dtype=int64)"
      ]
     },
     "execution_count": 14,
     "metadata": {},
     "output_type": "execute_result"
    }
   ],
   "source": [
    "x "
   ]
  },
  {
   "cell_type": "markdown",
   "id": "b88c34e6",
   "metadata": {},
   "source": [
    "### 2 example with Lemmitization"
   ]
  },
  {
   "cell_type": "code",
   "execution_count": 31,
   "id": "44f0c557",
   "metadata": {},
   "outputs": [],
   "source": [
    "para2 = \"\"\"Today, I stand before you to celebrate the life and legacy of one of the most remarkable individuals in modern history – Dr. APJ Abdul Kalam. A visionary, a scientist, and a leader, he was affectionately known as the \"Missile Man of India\" and, more importantly, as the \"People's President.\"\n",
    "\n",
    "Born in a humble family in Rameswaram, Tamil Nadu, Abdul Kalam's journey from a small town to becoming one of the most revered figures globally is a testament to the power of hard work, perseverance, and unwavering dedication to a cause. His insatiable thirst for knowledge and passion for science led him to become a prominent aerospace engineer and an instrumental figure in India's missile and space programs.\n",
    "\n",
    "But beyond his scientific achievements, what truly set Dr. Kalam apart was his humility, his genuine love for people, and his unwavering belief in the youth of the nation. He believed that every individual, regardless of their background, had the potential to achieve greatness, and he dedicated much of his life to inspiring and nurturing young minds.\n",
    "\n",
    "As the 11th President of India, he embraced the role with humility and grace, becoming an inspiring symbol of unity and progress for the nation. He sought to connect with the youth, encouraging them to dream big, work hard, and contribute to the development of the country. He traveled tirelessly, engaging with students and encouraging them to pursue careers in science and technology, fostering a culture of innovation and excellence.\n",
    "\n",
    "Dr. Kalam's speeches were filled with wisdom, hope, and the vision of a better India. He often emphasized the importance of values, integrity, and social responsibility, urging the youth to be the change they wished to see in the world. His words resonated deeply with people of all ages, transcending boundaries of region and religion, and leaving an indelible impact on hearts and minds.\n",
    "\n",
    "Despite all his accomplishments, Abdul Kalam remained a simple and approachable man. He carried himself with grace, warmth, and humility, making everyone feel valued and respected in his presence. His life was a living example of how greatness is not defined by titles or accolades but by the impact we have on the lives of others.\n",
    "\n",
    "Tragically, on July 27, 2015, India and the world lost a true visionary, but Abdul Kalam's spirit lives on, inspiring generations to come. As we reflect on his life, let us carry forward his vision of a united, prosperous, and technologically advanced India. Let us continue to nurture and empower the youth, for they are the torchbearers of our nation's future.\n",
    "\n",
    "In memory of Dr. APJ Abdul Kalam, let us strive to embody his values of integrity, compassion, and dedication to the betterment of society. Let us remember that each one of us has the power to make a positive impact, no matter how big or small, and let us work together to build a nation that he would have been proud of.\n",
    "\n",
    "Thank you.\"\"\""
   ]
  },
  {
   "cell_type": "code",
   "execution_count": 32,
   "id": "2f05ae7f",
   "metadata": {},
   "outputs": [],
   "source": [
    "sent2 = nltk.sent_tokenize(para2)"
   ]
  },
  {
   "cell_type": "code",
   "execution_count": 37,
   "id": "cfa9eb63",
   "metadata": {},
   "outputs": [
    {
     "data": {
      "text/plain": [
       "21"
      ]
     },
     "execution_count": 37,
     "metadata": {},
     "output_type": "execute_result"
    }
   ],
   "source": [
    "len(sent2)"
   ]
  },
  {
   "cell_type": "code",
   "execution_count": 38,
   "id": "d7397309",
   "metadata": {},
   "outputs": [],
   "source": [
    "import re\n",
    "from nltk.stem import WordNetLemmatizer"
   ]
  },
  {
   "cell_type": "code",
   "execution_count": 39,
   "id": "e4e22610",
   "metadata": {},
   "outputs": [],
   "source": [
    "tem = WordNetLemmatizer()"
   ]
  },
  {
   "cell_type": "code",
   "execution_count": 50,
   "id": "bc9fbb6b",
   "metadata": {},
   "outputs": [],
   "source": [
    "corpus2 = []\n",
    "for i in range(len(sent2)):\n",
    "    review2 = re.sub(\"[^a-zA-Z]\", \" \" , sent2[i])\n",
    "    review2 = review2.lower()\n",
    "    review2 = review2.split()\n",
    "    review2 = [tem.lemmatize(word) for word in review2 if word not in set(stopwords.words(\"English\"))]\n",
    "    review2 = \" \".join(review2)\n",
    "    corpus2.append(review2)"
   ]
  },
  {
   "cell_type": "code",
   "execution_count": 51,
   "id": "824001b2",
   "metadata": {},
   "outputs": [
    {
     "data": {
      "text/plain": [
       "['today stand celebrate life legacy one remarkable individual modern history dr apj abdul kalam',\n",
       " 'visionary scientist leader affectionately known missile man india importantly people president',\n",
       " 'born humble family rameswaram tamil nadu abdul kalam journey small town becoming one revered figure globally testament power hard work perseverance unwavering dedication cause',\n",
       " 'insatiable thirst knowledge passion science led become prominent aerospace engineer instrumental figure india missile space program',\n",
       " 'beyond scientific achievement truly set dr kalam apart humility genuine love people unwavering belief youth nation',\n",
       " 'believed every individual regardless background potential achieve greatness dedicated much life inspiring nurturing young mind',\n",
       " 'th president india embraced role humility grace becoming inspiring symbol unity progress nation',\n",
       " 'sought connect youth encouraging dream big work hard contribute development country',\n",
       " 'traveled tirelessly engaging student encouraging pursue career science technology fostering culture innovation excellence',\n",
       " 'dr kalam speech filled wisdom hope vision better india',\n",
       " 'often emphasized importance value integrity social responsibility urging youth change wished see world',\n",
       " 'word resonated deeply people age transcending boundary region religion leaving indelible impact heart mind',\n",
       " 'despite accomplishment abdul kalam remained simple approachable man',\n",
       " 'carried grace warmth humility making everyone feel valued respected presence',\n",
       " 'life living example greatness defined title accolade impact life others',\n",
       " 'tragically july india world lost true visionary abdul kalam spirit life inspiring generation come',\n",
       " 'reflect life let u carry forward vision united prosperous technologically advanced india',\n",
       " 'let u continue nurture empower youth torchbearer nation future',\n",
       " 'memory dr apj abdul kalam let u strive embody value integrity compassion dedication betterment society',\n",
       " 'let u remember one u power make positive impact matter big small let u work together build nation would proud',\n",
       " 'thank']"
      ]
     },
     "execution_count": 51,
     "metadata": {},
     "output_type": "execute_result"
    }
   ],
   "source": [
    "corpus2"
   ]
  },
  {
   "cell_type": "code",
   "execution_count": 52,
   "id": "bba21cb1",
   "metadata": {},
   "outputs": [],
   "source": [
    "from sklearn.feature_extraction.text import CountVectorizer"
   ]
  },
  {
   "cell_type": "code",
   "execution_count": 54,
   "id": "0a0d23c9",
   "metadata": {},
   "outputs": [],
   "source": [
    "cv2 = CountVectorizer()"
   ]
  },
  {
   "cell_type": "code",
   "execution_count": 55,
   "id": "58940dec",
   "metadata": {},
   "outputs": [],
   "source": [
    "x2 = cv2.fit_transform(corpus2).toarray()"
   ]
  },
  {
   "cell_type": "code",
   "execution_count": 56,
   "id": "e7b18861",
   "metadata": {},
   "outputs": [
    {
     "data": {
      "text/plain": [
       "array([[1, 0, 0, ..., 0, 0, 0],\n",
       "       [0, 0, 0, ..., 0, 0, 0],\n",
       "       [1, 0, 0, ..., 0, 0, 0],\n",
       "       ...,\n",
       "       [1, 0, 0, ..., 0, 0, 0],\n",
       "       [0, 0, 0, ..., 1, 0, 0],\n",
       "       [0, 0, 0, ..., 0, 0, 0]], dtype=int64)"
      ]
     },
     "execution_count": 56,
     "metadata": {},
     "output_type": "execute_result"
    }
   ],
   "source": [
    "x2"
   ]
  },
  {
   "cell_type": "code",
   "execution_count": null,
   "id": "4a074a4a",
   "metadata": {},
   "outputs": [],
   "source": []
  }
 ],
 "metadata": {
  "kernelspec": {
   "display_name": "Python 3",
   "language": "python",
   "name": "python3"
  },
  "language_info": {
   "codemirror_mode": {
    "name": "ipython",
    "version": 3
   },
   "file_extension": ".py",
   "mimetype": "text/x-python",
   "name": "python",
   "nbconvert_exporter": "python",
   "pygments_lexer": "ipython3",
   "version": "3.8.8"
  }
 },
 "nbformat": 4,
 "nbformat_minor": 5
}
