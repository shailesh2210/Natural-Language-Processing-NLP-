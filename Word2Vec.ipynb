{
  "nbformat": 4,
  "nbformat_minor": 0,
  "metadata": {
    "colab": {
      "provenance": []
    },
    "kernelspec": {
      "name": "python3",
      "display_name": "Python 3"
    },
    "language_info": {
      "name": "python"
    }
  },
  "cells": [
    {
      "cell_type": "code",
      "execution_count": null,
      "metadata": {
        "id": "lr_Elfg_P6Ze"
      },
      "outputs": [],
      "source": []
    },
    {
      "cell_type": "code",
      "source": [
        "import gensim"
      ],
      "metadata": {
        "id": "meH_S-jTP_8I"
      },
      "execution_count": 1,
      "outputs": []
    },
    {
      "cell_type": "code",
      "source": [
        "import nltk\n",
        "nltk.download('stopwords')\n",
        "from gensim.models import Word2Vec\n",
        "from nltk.corpus import stopwords"
      ],
      "metadata": {
        "id": "RJy7MDnaQFrZ",
        "colab": {
          "base_uri": "https://localhost:8080/"
        },
        "outputId": "4373d8d3-8f1a-4e92-a9ab-fb68fafeda5a"
      },
      "execution_count": 26,
      "outputs": [
        {
          "output_type": "stream",
          "name": "stderr",
          "text": [
            "[nltk_data] Downloading package stopwords to /root/nltk_data...\n",
            "[nltk_data]   Package stopwords is already up-to-date!\n"
          ]
        }
      ]
    },
    {
      "cell_type": "code",
      "source": [
        "para = \"\"\"Dr. Avul Pakir Jainulabdeen Abdul Kalam, popularly known as A.P.J. Abdul Kalam, was an Indian scientist, educator, and statesman who served as the 11th President of India from 2002 to 2007. He was born on October 15, 1931, in Rameswaram, Tamil Nadu, and passed away on July 27, 2015.\n",
        "\n",
        "Dr. Kalam was a renowned aerospace engineer who played a key role in India's civilian space program and military missile development. He was often referred to as the \"Missile Man of India\" for his contributions to the development of ballistic missile technology. He played a pivotal role in the successful launch of India's first indigenous satellite launch vehicle, SLV-III, and the development of the Agni and Prithvi missiles.\n",
        "\n",
        "Beyond his contributions to science and technology, Dr. Abdul Kalam was also known for his passion for education and inspiring the youth of the nation. He believed in the power of education and encouraged young minds to dream big and work hard to achieve their goals. He delivered numerous motivational speeches across the country, addressing students, educators, and professionals alike.\n",
        "\n",
        "One of his most famous books is \"Wings of Fire: An Autobiography,\" where he shared his life journey, from his humble beginnings to becoming one of India's most respected leaders.\n",
        "\n",
        "Throughout his life, Dr. Kalam was widely admired for his simplicity, humility, and dedication to serving the nation. He received several prestigious awards and honors, including the Bharat Ratna, India's highest civilian award, in 1997.\n",
        "\n",
        "His legacy continues to inspire people worldwide, and his words of wisdom and motivational speeches continue to be cherished and remembered by many. He left a lasting impact on India's scientific and educational community, and his vision for a prosperous and developed India remains an inspiration for generations to come.\"\"\""
      ],
      "metadata": {
        "id": "sbJ1Zs2kQKZd"
      },
      "execution_count": 3,
      "outputs": []
    },
    {
      "cell_type": "code",
      "source": [
        "import re\n",
        "text = re.sub(r'\\[[0-9]*\\]',\" \" , para)\n",
        "text = re.sub(r'\\s+',' ', text)\n",
        "text = text.lower()\n",
        "text = re.sub(r'\\d', \" \", text)\n",
        "text = re.sub(r'\\s', \" \", text)"
      ],
      "metadata": {
        "id": "qGNSjPrBrcS6"
      },
      "execution_count": 4,
      "outputs": []
    },
    {
      "cell_type": "code",
      "source": [
        "sentences = nltk.sent_tokenize(text)"
      ],
      "metadata": {
        "id": "w8c8heDUsj9U"
      },
      "execution_count": 11,
      "outputs": []
    },
    {
      "cell_type": "code",
      "source": [
        "sentences"
      ],
      "metadata": {
        "colab": {
          "base_uri": "https://localhost:8080/"
        },
        "id": "f1rTQ4qEssJN",
        "outputId": "11420b3a-5a3f-4550-8f5d-9398f0fa9804"
      },
      "execution_count": 12,
      "outputs": [
        {
          "output_type": "execute_result",
          "data": {
            "text/plain": [
              "['dr. avul pakir jainulabdeen abdul kalam, popularly known as a.p.j.',\n",
              " 'abdul kalam, was an indian scientist, educator, and statesman who served as the   th president of india from      to     .',\n",
              " 'he was born on october   ,     , in rameswaram, tamil nadu, and passed away on july   ,     .',\n",
              " \"dr. kalam was a renowned aerospace engineer who played a key role in india's civilian space program and military missile development.\",\n",
              " 'he was often referred to as the \"missile man of india\" for his contributions to the development of ballistic missile technology.',\n",
              " \"he played a pivotal role in the successful launch of india's first indigenous satellite launch vehicle, slv-iii, and the development of the agni and prithvi missiles.\",\n",
              " 'beyond his contributions to science and technology, dr. abdul kalam was also known for his passion for education and inspiring the youth of the nation.',\n",
              " 'he believed in the power of education and encouraged young minds to dream big and work hard to achieve their goals.',\n",
              " 'he delivered numerous motivational speeches across the country, addressing students, educators, and professionals alike.',\n",
              " 'one of his most famous books is \"wings of fire: an autobiography,\" where he shared his life journey, from his humble beginnings to becoming one of india\\'s most respected leaders.',\n",
              " 'throughout his life, dr. kalam was widely admired for his simplicity, humility, and dedication to serving the nation.',\n",
              " \"he received several prestigious awards and honors, including the bharat ratna, india's highest civilian award, in     .\",\n",
              " 'his legacy continues to inspire people worldwide, and his words of wisdom and motivational speeches continue to be cherished and remembered by many.',\n",
              " \"he left a lasting impact on india's scientific and educational community, and his vision for a prosperous and developed india remains an inspiration for generations to come.\"]"
            ]
          },
          "metadata": {},
          "execution_count": 12
        }
      ]
    },
    {
      "cell_type": "code",
      "source": [
        "sentences = [nltk.word_tokenize(sentence) for sentence in sentences]"
      ],
      "metadata": {
        "id": "n1gLUV1NszQl"
      },
      "execution_count": 18,
      "outputs": []
    },
    {
      "cell_type": "code",
      "source": [
        "for i in range(len(sentences)):\n",
        "    sentences[i] = [word for word in sentences[i] if word not in stopwords.words(\"english\")]"
      ],
      "metadata": {
        "id": "jv1lNEHNtAan"
      },
      "execution_count": 24,
      "outputs": []
    },
    {
      "cell_type": "code",
      "source": [
        "model =Word2Vec(sentences, min_count=1)"
      ],
      "metadata": {
        "id": "M04BR1Mft2fV"
      },
      "execution_count": 27,
      "outputs": []
    },
    {
      "cell_type": "code",
      "source": [
        "vector = model.wv[\"impact\"]"
      ],
      "metadata": {
        "id": "rTGokziFu5gB"
      },
      "execution_count": 32,
      "outputs": []
    },
    {
      "cell_type": "code",
      "source": [
        "vector"
      ],
      "metadata": {
        "colab": {
          "base_uri": "https://localhost:8080/"
        },
        "id": "NHBgd6bXv0cY",
        "outputId": "63157e44-a42e-4418-df12-ef38ac4a6b8c"
      },
      "execution_count": 33,
      "outputs": [
        {
          "output_type": "execute_result",
          "data": {
            "text/plain": [
              "array([ 6.1513958e-03, -1.9954250e-03,  6.2460154e-03,  1.5058834e-03,\n",
              "        4.4122436e-03, -1.0061288e-02,  7.5245425e-03,  2.4615787e-04,\n",
              "       -6.4576748e-03, -9.5343813e-03, -2.8932709e-04, -7.8621963e-03,\n",
              "        6.2259263e-03,  6.9393842e-03, -4.6690246e-03,  3.1835013e-03,\n",
              "        1.8246252e-03, -6.3816174e-03, -1.1325900e-03,  4.8141754e-03,\n",
              "        7.3103500e-03, -4.7958377e-04, -4.1288203e-03, -7.3426017e-03,\n",
              "       -6.0146712e-03,  8.5859261e-03,  6.3059009e-03, -7.7685229e-03,\n",
              "        3.2166575e-04, -9.6265022e-03,  6.4359126e-03, -4.8703565e-03,\n",
              "        1.5429623e-03, -8.3108097e-03,  4.9893470e-03, -9.6416809e-03,\n",
              "        5.8393385e-03,  3.0739801e-03, -4.4216770e-03, -7.4259159e-03,\n",
              "       -7.5770221e-03,  1.2140842e-03,  2.5631748e-03, -5.1466431e-03,\n",
              "       -7.9901069e-03,  8.8487929e-03, -2.6030506e-03, -5.6489268e-03,\n",
              "       -7.0519289e-03,  4.3080744e-04,  9.2721907e-03,  4.6895263e-03,\n",
              "       -3.5692146e-03, -3.7722336e-03, -8.5336966e-03,  6.6931206e-03,\n",
              "       -9.2809554e-03, -3.7194714e-03, -3.3409377e-03, -2.1732203e-03,\n",
              "       -9.2138322e-03, -1.3831934e-03, -6.3214726e-03, -1.6046431e-03,\n",
              "        3.8083377e-05,  2.2423849e-03,  3.7487326e-03, -5.4295310e-03,\n",
              "        4.6449183e-03, -3.3296042e-03, -5.9168716e-03, -5.4001734e-03,\n",
              "       -6.7024827e-03, -4.5000995e-03,  6.8732589e-03,  5.2789915e-03,\n",
              "       -7.4707819e-03,  2.6089994e-03,  6.9483779e-03,  9.2532095e-03,\n",
              "       -1.2381128e-03,  9.0185786e-03, -2.9542837e-03, -5.8219526e-03,\n",
              "       -2.4987555e-03, -5.8216094e-03,  4.9659633e-03,  8.1724664e-03,\n",
              "        8.9376066e-03, -7.2670612e-03, -8.8494401e-03,  5.2530868e-03,\n",
              "       -9.6163908e-03, -6.1691627e-03, -5.5861045e-03, -7.1279672e-03,\n",
              "       -8.2989177e-04, -1.2465997e-03,  9.8409923e-03,  3.7045269e-03],\n",
              "      dtype=float32)"
            ]
          },
          "metadata": {},
          "execution_count": 33
        }
      ]
    },
    {
      "cell_type": "code",
      "source": [
        "model.wv.most_similar(\"education\")"
      ],
      "metadata": {
        "colab": {
          "base_uri": "https://localhost:8080/"
        },
        "id": "H2jKvppCwMx4",
        "outputId": "327a03a9-51c0-4e39-b95c-41f04f5b11a6"
      },
      "execution_count": 36,
      "outputs": [
        {
          "output_type": "execute_result",
          "data": {
            "text/plain": [
              "[('engineer', 0.2562979757785797),\n",
              " ('bharat', 0.2452002316713333),\n",
              " ('worldwide', 0.2270604521036148),\n",
              " ('satellite', 0.18742255866527557),\n",
              " ('come', 0.18227913975715637),\n",
              " ('delivered', 0.16100122034549713),\n",
              " ('professionals', 0.1508084088563919),\n",
              " ('india', 0.14932359755039215),\n",
              " ('continue', 0.13608276844024658),\n",
              " ('addressing', 0.1179409846663475)]"
            ]
          },
          "metadata": {},
          "execution_count": 36
        }
      ]
    },
    {
      "cell_type": "code",
      "source": [],
      "metadata": {
        "id": "e6c6-ughxI9Q"
      },
      "execution_count": null,
      "outputs": []
    }
  ]
}