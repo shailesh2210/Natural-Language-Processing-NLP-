{
 "cells": [
  {
   "cell_type": "markdown",
   "id": "a6631bb2",
   "metadata": {},
   "source": [
    "### Example 1"
   ]
  },
  {
   "cell_type": "code",
   "execution_count": 1,
   "id": "fe7314b2",
   "metadata": {},
   "outputs": [],
   "source": [
    "import nltk\n",
    "from nltk.stem import WordNetLemmatizer\n",
    "from nltk.corpus import stopwords"
   ]
  },
  {
   "cell_type": "code",
   "execution_count": 2,
   "id": "6f6a889c",
   "metadata": {},
   "outputs": [],
   "source": [
    "para = \"\"\"Yet, amidst our achievements, we grapple with complex issues that test our morality, compassion, and wisdom. Challenges like climate change, global inequality, and conflicts demand collective effort and genuine empathy to find sustainable solutions. As the custodians of this remarkable planet, we are confronted with a pivotal choice - to succumb to shortsightedness and division or to rise above, fostering unity and cooperation to safeguard the future for generations yet to come.\n",
    "\n",
    "Amidst this grand tapestry, human emotions are the vibrant threads that weave the narratives of our lives. Love, joy, sorrow, and hope form the emotional tapestry that binds us together as a species, transcending borders and cultures. Empathy, the cornerstone of human connection, empowers us to share in each other's triumphs and struggles, reminding us that we are part of an interwoven fabric of existence.\n",
    "\n",
    "As we contemplate the immensity of the universe and our place within it, we are beckoned to explore the frontiers of knowledge and consciousness. From the depths of the oceans to the reaches of space, there are limitless discoveries awaiting us, inviting us to unlock the secrets of existence and understand the profound intricacies of reality.\n",
    "\n",
    "In this grand tapestry of life, we find ourselves both insignificant and extraordinary, our collective actions capable of shaping the fate of our world and beyond. Let us embrace our shared journey with humility and courage, recognizing the profound responsibility and opportunity we have as stewards of this awe-inspiring universe. As we navigate the ever-changing currents of time, may we strive to leave behind a legacy of compassion, wisdom, and unity, ensuring that our thread in this vast cosmic fabric shines brightly, etching our story into the annals of cosmic history.\"\"\""
   ]
  },
  {
   "cell_type": "code",
   "execution_count": 3,
   "id": "65ed17ac",
   "metadata": {},
   "outputs": [],
   "source": [
    "sent = nltk.sent_tokenize(para)"
   ]
  },
  {
   "cell_type": "code",
   "execution_count": 4,
   "id": "d2b2edf9",
   "metadata": {},
   "outputs": [
    {
     "data": {
      "text/plain": [
       "11"
      ]
     },
     "execution_count": 4,
     "metadata": {},
     "output_type": "execute_result"
    }
   ],
   "source": [
    "len(sent)"
   ]
  },
  {
   "cell_type": "code",
   "execution_count": 5,
   "id": "66065cfd",
   "metadata": {},
   "outputs": [
    {
     "data": {
      "text/plain": [
       "['Yet, amidst our achievements, we grapple with complex issues that test our morality, compassion, and wisdom.',\n",
       " 'Challenges like climate change, global inequality, and conflicts demand collective effort and genuine empathy to find sustainable solutions.',\n",
       " 'As the custodians of this remarkable planet, we are confronted with a pivotal choice - to succumb to shortsightedness and division or to rise above, fostering unity and cooperation to safeguard the future for generations yet to come.',\n",
       " 'Amidst this grand tapestry, human emotions are the vibrant threads that weave the narratives of our lives.',\n",
       " 'Love, joy, sorrow, and hope form the emotional tapestry that binds us together as a species, transcending borders and cultures.',\n",
       " \"Empathy, the cornerstone of human connection, empowers us to share in each other's triumphs and struggles, reminding us that we are part of an interwoven fabric of existence.\",\n",
       " 'As we contemplate the immensity of the universe and our place within it, we are beckoned to explore the frontiers of knowledge and consciousness.',\n",
       " 'From the depths of the oceans to the reaches of space, there are limitless discoveries awaiting us, inviting us to unlock the secrets of existence and understand the profound intricacies of reality.',\n",
       " 'In this grand tapestry of life, we find ourselves both insignificant and extraordinary, our collective actions capable of shaping the fate of our world and beyond.',\n",
       " 'Let us embrace our shared journey with humility and courage, recognizing the profound responsibility and opportunity we have as stewards of this awe-inspiring universe.',\n",
       " 'As we navigate the ever-changing currents of time, may we strive to leave behind a legacy of compassion, wisdom, and unity, ensuring that our thread in this vast cosmic fabric shines brightly, etching our story into the annals of cosmic history.']"
      ]
     },
     "execution_count": 5,
     "metadata": {},
     "output_type": "execute_result"
    }
   ],
   "source": [
    "sent"
   ]
  },
  {
   "cell_type": "code",
   "execution_count": 6,
   "id": "fb84e8d4",
   "metadata": {},
   "outputs": [],
   "source": [
    "lemmitizer = WordNetLemmatizer()"
   ]
  },
  {
   "cell_type": "code",
   "execution_count": 7,
   "id": "adbe8d87",
   "metadata": {},
   "outputs": [],
   "source": [
    "for i in range(len(sent)):\n",
    "    words = nltk.word_tokenize(sent[i])\n",
    "    words = [lemmitizer.lemmatize(word) for word in words if word not in set(stopwords.words(\"English\"))]\n",
    "    sent[i] = \"\".join(words)"
   ]
  },
  {
   "cell_type": "code",
   "execution_count": 8,
   "id": "81bc9dad",
   "metadata": {},
   "outputs": [
    {
     "data": {
      "text/plain": [
       "['Yet,amidstachievement,grapplecomplexissuetestmorality,compassion,wisdom.',\n",
       " 'Challengeslikeclimatechange,globalinequality,conflictdemandcollectiveeffortgenuineempathyfindsustainablesolution.',\n",
       " 'Ascustodianremarkableplanet,confrontedpivotalchoice-succumbshortsightednessdivisionrise,fosteringunitycooperationsafeguardfuturegenerationyetcome.',\n",
       " 'Amidstgrandtapestry,humanemotionvibrantthreadweavenarrativelife.',\n",
       " 'Love,joy,sorrow,hopeformemotionaltapestrybindutogetherspecie,transcendingborderculture.',\n",
       " \"Empathy,cornerstonehumanconnection,empowersushare'striumphstruggle,remindingupartinterwovenfabricexistence.\",\n",
       " 'Ascontemplateimmensityuniverseplacewithin,beckonedexplorefrontierknowledgeconsciousness.',\n",
       " 'Fromdepthoceanreachspace,limitlessdiscoveryawaitingu,invitinguunlocksecretexistenceunderstandprofoundintricacyreality.',\n",
       " 'Ingrandtapestrylife,findinsignificantextraordinary,collectiveactioncapableshapingfateworldbeyond.',\n",
       " 'Letuembracesharedjourneyhumilitycourage,recognizingprofoundresponsibilityopportunitystewardawe-inspiringuniverse.',\n",
       " 'Asnavigateever-changingcurrenttime,maystriveleavebehindlegacycompassion,wisdom,unity,ensuringthreadvastcosmicfabricshinebrightly,etchingstoryannalscosmichistory.']"
      ]
     },
     "execution_count": 8,
     "metadata": {},
     "output_type": "execute_result"
    }
   ],
   "source": [
    "sent"
   ]
  },
  {
   "cell_type": "markdown",
   "id": "3c862255",
   "metadata": {},
   "source": [
    "### Example 2"
   ]
  },
  {
   "cell_type": "code",
   "execution_count": 9,
   "id": "23b0bc52",
   "metadata": {},
   "outputs": [],
   "source": [
    "para2 = \"\"\"permeating every facet of modern life. From autonomous vehicles navigating bustling streets to AI-powered medical diagnostics revolutionizing healthcare, the once-fantastical visions of science fiction have become tangible realities. With the promise of increased efficiency and convenience, AI has the potential to uplift societies, yet it also raises ethical questions regarding privacy, transparency, and the ever-elusive balance between human ingenuity and machine intellect.\n",
    "\n",
    "The digital landscape has birthed a global community, interwoven by interconnected networks that transcend geographical borders. Social media platforms have become virtual town squares, where ideas, beliefs, and cultures intertwine, fostering both unity and division. While the internet empowers knowledge-sharing and empowers marginalized voices, it also grapples with issues of misinformation, echo chambers, and cyber vulnerabilities. As we navigate the vast digital expanse, cultivating digital literacy and responsible online citizenship becomes imperative.\n",
    "\n",
    "Renewable energy and sustainable practices are carving a path towards a greener, more resilient planet. From solar arrays harnessing the sun's energy to wind farms capturing nature's kinetic force, renewable technologies promise to mitigate the impacts of climate change and reduce our carbon footprint. The collective commitment to environmental stewardship becomes the key to safeguarding the biodiversity and ecosystems that sustain life itself.\n",
    "\n",
    "Amidst these sweeping changes, the human spirit remains steadfast in its pursuit of knowledge and self-discovery. Space exploration has transcended its previous limits, with missions to Mars and beyond igniting the imaginations of aspiring interplanetary pioneers. The cosmos continues to reveal its mysteries, beckoning humanity to explore the final frontier and fostering dreams of a multi-planetary existence.\n",
    "\n",
    "Yet, amidst all this progress, we must confront the shadows that loom on the horizon. Rising inequalities, both within and between nations, pose a formidable challenge to global harmony. The quest for power and resources has the potential to lead to conflicts and geopolitical tensions. It is in this moment of change and uncertainty that the indomitable spirit of humanity must be fortified with compassion, empathy, and a collective vision of a just and equitable world.\"\"\""
   ]
  },
  {
   "cell_type": "code",
   "execution_count": 10,
   "id": "fbcc484b",
   "metadata": {},
   "outputs": [],
   "source": [
    "sent2 = nltk.sent_tokenize(para2)"
   ]
  },
  {
   "cell_type": "code",
   "execution_count": 11,
   "id": "7d2bcf44",
   "metadata": {},
   "outputs": [
    {
     "data": {
      "text/plain": [
       "['permeating every facet of modern life.',\n",
       " 'From autonomous vehicles navigating bustling streets to AI-powered medical diagnostics revolutionizing healthcare, the once-fantastical visions of science fiction have become tangible realities.',\n",
       " 'With the promise of increased efficiency and convenience, AI has the potential to uplift societies, yet it also raises ethical questions regarding privacy, transparency, and the ever-elusive balance between human ingenuity and machine intellect.',\n",
       " 'The digital landscape has birthed a global community, interwoven by interconnected networks that transcend geographical borders.',\n",
       " 'Social media platforms have become virtual town squares, where ideas, beliefs, and cultures intertwine, fostering both unity and division.',\n",
       " 'While the internet empowers knowledge-sharing and empowers marginalized voices, it also grapples with issues of misinformation, echo chambers, and cyber vulnerabilities.',\n",
       " 'As we navigate the vast digital expanse, cultivating digital literacy and responsible online citizenship becomes imperative.',\n",
       " 'Renewable energy and sustainable practices are carving a path towards a greener, more resilient planet.',\n",
       " \"From solar arrays harnessing the sun's energy to wind farms capturing nature's kinetic force, renewable technologies promise to mitigate the impacts of climate change and reduce our carbon footprint.\",\n",
       " 'The collective commitment to environmental stewardship becomes the key to safeguarding the biodiversity and ecosystems that sustain life itself.',\n",
       " 'Amidst these sweeping changes, the human spirit remains steadfast in its pursuit of knowledge and self-discovery.',\n",
       " 'Space exploration has transcended its previous limits, with missions to Mars and beyond igniting the imaginations of aspiring interplanetary pioneers.',\n",
       " 'The cosmos continues to reveal its mysteries, beckoning humanity to explore the final frontier and fostering dreams of a multi-planetary existence.',\n",
       " 'Yet, amidst all this progress, we must confront the shadows that loom on the horizon.',\n",
       " 'Rising inequalities, both within and between nations, pose a formidable challenge to global harmony.',\n",
       " 'The quest for power and resources has the potential to lead to conflicts and geopolitical tensions.',\n",
       " 'It is in this moment of change and uncertainty that the indomitable spirit of humanity must be fortified with compassion, empathy, and a collective vision of a just and equitable world.']"
      ]
     },
     "execution_count": 11,
     "metadata": {},
     "output_type": "execute_result"
    }
   ],
   "source": [
    "sent2"
   ]
  },
  {
   "cell_type": "code",
   "execution_count": 12,
   "id": "306d3c92",
   "metadata": {},
   "outputs": [
    {
     "data": {
      "text/plain": [
       "17"
      ]
     },
     "execution_count": 12,
     "metadata": {},
     "output_type": "execute_result"
    }
   ],
   "source": [
    "len(sent2)"
   ]
  },
  {
   "cell_type": "code",
   "execution_count": 13,
   "id": "a6e8b85e",
   "metadata": {},
   "outputs": [],
   "source": [
    "lemmitizer = WordNetLemmatizer()"
   ]
  },
  {
   "cell_type": "code",
   "execution_count": 15,
   "id": "59dde903",
   "metadata": {},
   "outputs": [],
   "source": [
    "for i in range(len(sent2)):\n",
    "    words = nltk.word_tokenize(sent2[i])\n",
    "    words = [lemmitizer.lemmatize(word) for word in words if word not in set(stopwords.words(\"English\"))]\n",
    "    sent2[i] = \" \".join(words)"
   ]
  },
  {
   "cell_type": "code",
   "execution_count": 16,
   "id": "6e62d9b9",
   "metadata": {},
   "outputs": [
    {
     "data": {
      "text/plain": [
       "['permeating every facet modern life .',\n",
       " 'From autonomous vehicle navigating bustling street AI-powered medical diagnostics revolutionizing healthcare , once-fantastical vision science fiction become tangible reality .',\n",
       " 'With promise increased efficiency convenience , AI potential uplift society , yet also raise ethical question regarding privacy , transparency , ever-elusive balance human ingenuity machine intellect .',\n",
       " 'The digital landscape birthed global community , interwoven interconnected network transcend geographical border .',\n",
       " 'Social medium platform become virtual town square , idea , belief , culture intertwine , fostering unity division .',\n",
       " 'While internet empowers knowledge-sharing empowers marginalized voice , also grapple issue misinformation , echo chamber , cyber vulnerability .',\n",
       " 'As navigate vast digital expanse , cultivating digital literacy responsible online citizenship becomes imperative .',\n",
       " 'Renewable energy sustainable practice carving path towards greener , resilient planet .',\n",
       " \"From solar array harnessing sun 's energy wind farm capturing nature 's kinetic force , renewable technology promise mitigate impact climate change reduce carbon footprint .\",\n",
       " 'The collective commitment environmental stewardship becomes key safeguarding biodiversity ecosystem sustain life .',\n",
       " 'Amidst sweeping change , human spirit remains steadfast pursuit knowledge self-discovery .',\n",
       " 'Space exploration transcended previous limit , mission Mars beyond igniting imagination aspiring interplanetary pioneer .',\n",
       " 'The cosmos continues reveal mystery , beckoning humanity explore final frontier fostering dream multi-planetary existence .',\n",
       " 'Yet , amidst progress , must confront shadow loom horizon .',\n",
       " 'Rising inequality , within nation , pose formidable challenge global harmony .',\n",
       " 'The quest power resource potential lead conflict geopolitical tension .',\n",
       " 'It moment change uncertainty indomitable spirit humanity must fortified compassion , empathy , collective vision equitable world .']"
      ]
     },
     "execution_count": 16,
     "metadata": {},
     "output_type": "execute_result"
    }
   ],
   "source": [
    "sent2"
   ]
  },
  {
   "cell_type": "code",
   "execution_count": null,
   "id": "15c50828",
   "metadata": {},
   "outputs": [],
   "source": []
  }
 ],
 "metadata": {
  "kernelspec": {
   "display_name": "Python 3",
   "language": "python",
   "name": "python3"
  },
  "language_info": {
   "codemirror_mode": {
    "name": "ipython",
    "version": 3
   },
   "file_extension": ".py",
   "mimetype": "text/x-python",
   "name": "python",
   "nbconvert_exporter": "python",
   "pygments_lexer": "ipython3",
   "version": "3.8.8"
  }
 },
 "nbformat": 4,
 "nbformat_minor": 5
}
